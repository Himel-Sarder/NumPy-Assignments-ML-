{
 "cells": [
  {
   "cell_type": "markdown",
   "id": "a86ef73d-5b21-49ad-bcd0-1e9df7b28f01",
   "metadata": {
    "id": "a86ef73d-5b21-49ad-bcd0-1e9df7b28f01"
   },
   "source": [
    "# Assignment Set 1 - Module Creating Arrays"
   ]
  },
  {
   "cell_type": "markdown",
   "id": "b2e18fd3-01fe-4a1f-937a-71ee6023f2d6",
   "metadata": {
    "id": "b2e18fd3-01fe-4a1f-937a-71ee6023f2d6",
    "tags": []
   },
   "source": [
    "### Q1.  Create a 2x2x2 3-D array containing total 8 elements."
   ]
  },
  {
   "cell_type": "markdown",
   "id": "6e493261-23aa-49c1-aca6-858825f1f80a",
   "metadata": {
    "id": "6e493261-23aa-49c1-aca6-858825f1f80a"
   },
   "source": [
    "### Q2.  Replace the 1st element of the above 3-D array with 10"
   ]
  },
  {
   "cell_type": "markdown",
   "id": "40c75865-5852-4d21-947c-c213faa3bfd9",
   "metadata": {
    "id": "40c75865-5852-4d21-947c-c213faa3bfd9"
   },
   "source": [
    "### 3.  Check the shape and dimensions of the above 3-D array"
   ]
  },
  {
   "cell_type": "markdown",
   "id": "5762b107-770b-48ee-b7d2-2e69e9bb930a",
   "metadata": {
    "id": "5762b107-770b-48ee-b7d2-2e69e9bb930a"
   },
   "source": [
    "### 4. Export the above array"
   ]
  },
  {
   "cell_type": "markdown",
   "id": "753a9571-ffa5-4287-817a-4be629ac2a46",
   "metadata": {
    "id": "753a9571-ffa5-4287-817a-4be629ac2a46"
   },
   "source": [
    "### 5. Import the array from given url\n",
    "\n",
    "``` url = 'https://archive.ics.uci.edu/ml/machine-learning-databases/iris/iris.data' ```"
   ]
  },
  {
   "cell_type": "code",
   "execution_count": null,
   "id": "b317efad-5407-4091-ace8-d42ea4e4c6b8",
   "metadata": {},
   "outputs": [],
   "source": []
  }
 ],
 "metadata": {
  "colab": {
   "collapsed_sections": [],
   "name": "assignment_set_1.ipynb",
   "provenance": []
  },
  "kernelspec": {
   "display_name": "Python 3 (ipykernel)",
   "language": "python",
   "name": "python3"
  },
  "language_info": {
   "codemirror_mode": {
    "name": "ipython",
    "version": 3
   },
   "file_extension": ".py",
   "mimetype": "text/x-python",
   "name": "python",
   "nbconvert_exporter": "python",
   "pygments_lexer": "ipython3",
   "version": "3.12.4"
  }
 },
 "nbformat": 4,
 "nbformat_minor": 5
}
